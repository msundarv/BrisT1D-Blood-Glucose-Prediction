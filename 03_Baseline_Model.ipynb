{
 "cells": [
  {
   "cell_type": "code",
   "execution_count": null,
   "metadata": {},
   "outputs": [],
   "source": [
    "import warnings\n",
    "warnings.filterwarnings('ignore')\n",
    "\n",
    "import pandas as pd\n",
    "import numpy as np\n",
    "from datetime import datetime\n",
    "from sklearn.metrics import mean_squared_error\n",
    "from sklearn.model_selection import StratifiedKFold\n",
    "from sklearn.ensemble import RandomForestRegressor"
   ]
  },
  {
   "cell_type": "code",
   "execution_count": null,
   "metadata": {},
   "outputs": [],
   "source": [
    "# Some global variables\n",
    "\n",
    "data_folder = \"../Data/\"\n",
    "res_folder = \"../Res/\"\n",
    "features = ['bg', 'insulin', 'carbs', 'hr', 'steps', 'cals', 'activity']\n",
    "current_date = datetime.now().strftime('%Y%m%d')"
   ]
  },
  {
   "cell_type": "code",
   "execution_count": null,
   "metadata": {},
   "outputs": [],
   "source": [
    "# Read training data and test data\n",
    "\n",
    "train_df = pd.read_csv(data_folder + '20241122_train_cleaned.csv')\n",
    "test_df = pd.read_csv(data_folder + '20241122_test_cleaned.csv')\n",
    "\n",
    "print(\"Training Data Shape: \", train_df.shape)\n",
    "print(\"Test Data Shape: \", test_df.shape)\n",
    "train_df.head()"
   ]
  },
  {
   "cell_type": "code",
   "execution_count": null,
   "metadata": {},
   "outputs": [],
   "source": [
    "# Check the base performance if the prediction is same as the last value \n",
    "\n",
    "train_rmse_last_seen = np.sqrt(mean_squared_error(train_df['bg+1:00'], train_df['bg-0:00']))\n",
    "print(f\"Baseline RMSE: {round(train_rmse_last_seen, 4)}\")"
   ]
  },
  {
   "cell_type": "code",
   "execution_count": null,
   "metadata": {},
   "outputs": [],
   "source": [
    "def save_result(test_df, pred, file_name):\n",
    "    \n",
    "    # Prepare data for submission\n",
    "    test_df['bg+1:00'] = pred\n",
    "    res_df = test_df[['id', 'bg+1:00']]\n",
    "    \n",
    "    res_df.to_csv(file_name, index=False)\n",
    "    print(f\"Result saved to {file_name}\")\n",
    "    \n",
    "    return None\n",
    "\n",
    "# save_result(test_df, test_df['bg-0:00'], res_folder + current_date + '_simple_baseline.csv')"
   ]
  },
  {
   "cell_type": "code",
   "execution_count": null,
   "metadata": {},
   "outputs": [],
   "source": [
    "# Check the baseline model performance with KFold cross validation\n",
    "\n",
    "# Select the feature columns for model training\n",
    "feature_cols = []\n",
    "for feature in features:\n",
    "    \n",
    "    # Consider only the bg feature\n",
    "    '''\n",
    "    if feature != 'bg':\n",
    "        continue\n",
    "    '''\n",
    "    \n",
    "    # Skip categorical features\n",
    "    if feature == 'activity':\n",
    "        continue\n",
    "    feature_cols.extend([col for col in train_df.columns if col.startswith(feature)])\n",
    "feature_cols.remove('bg+1:00')\n",
    "print(f\"Feature Columns: {feature_cols}\")\n",
    "\n",
    "run_kfold_cv = True\n",
    "if run_kfold_cv:\n",
    "    kf = StratifiedKFold(n_splits=5, random_state=0, shuffle=True)\n",
    "    for fold, (train_index, val_index) in enumerate(kf.split(train_df, train_df['p_num'])):\n",
    "        print(\"**********\")\n",
    "        print(f\"Fold {fold}\")\n",
    "        \n",
    "        # Prepare the training and validation data\n",
    "        train_fold = train_df.iloc[train_index]\n",
    "        val_fold = train_df.iloc[val_index]\n",
    "        print(f\"Train Fold Shape: {train_fold.shape}, Validation Fold Shape: {val_fold.shape}\")\n",
    "        \n",
    "        # Make predictions using the baseline model \n",
    "        model = RandomForestRegressor(n_estimators=10, random_state=0)\n",
    "        model.fit(train_fold[feature_cols], train_fold['bg+1:00'])\n",
    "\n",
    "        # Make predictions\n",
    "        train_pred = model.predict(train_fold[feature_cols])\n",
    "        val_pred = model.predict(val_fold[feature_cols])\n",
    "        \n",
    "        # Calculate the RMSE\n",
    "        train_rmse = np.sqrt(mean_squared_error(train_fold['bg+1:00'], train_pred))\n",
    "        val_rmse = np.sqrt(mean_squared_error(val_fold['bg+1:00'], val_pred))\n",
    "        print(f\"Train RMSE: {round(train_rmse, 4)}, Validation RMSE: {round(val_rmse, 4)}\")"
   ]
  },
  {
   "cell_type": "code",
   "execution_count": null,
   "metadata": {},
   "outputs": [],
   "source": [
    "# Save baseline result\n",
    "\n",
    "baseline_model = RandomForestRegressor(n_estimators=10, random_state=0)\n",
    "baseline_model.fit(train_df[feature_cols], train_df['bg+1:00'])\n",
    "\n",
    "pred = baseline_model.predict(test_df[feature_cols])\n",
    "# save_result(test_df, pred, res_folder + current_date + '_baseline_rf_keep-all-except-cat.csv')\n",
    "\n",
    "train_rmse = np.sqrt(mean_squared_error(train_df['bg+1:00'], baseline_model.predict(train_df[feature_cols])))\n",
    "print(f\"Train RMSE: {round(train_rmse, 4)}\")"
   ]
  },
  {
   "cell_type": "code",
   "execution_count": null,
   "metadata": {},
   "outputs": [],
   "source": []
  }
 ],
 "metadata": {
  "kernelspec": {
   "display_name": "brist1d",
   "language": "python",
   "name": "python3"
  },
  "language_info": {
   "codemirror_mode": {
    "name": "ipython",
    "version": 3
   },
   "file_extension": ".py",
   "mimetype": "text/x-python",
   "name": "python",
   "nbconvert_exporter": "python",
   "pygments_lexer": "ipython3",
   "version": "3.12.7"
  }
 },
 "nbformat": 4,
 "nbformat_minor": 2
}

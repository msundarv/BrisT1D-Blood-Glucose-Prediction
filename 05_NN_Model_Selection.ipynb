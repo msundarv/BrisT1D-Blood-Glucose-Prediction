{
 "cells": [
  {
   "cell_type": "code",
   "execution_count": null,
   "metadata": {},
   "outputs": [],
   "source": [
    "import warnings\n",
    "warnings.filterwarnings('ignore')\n",
    "\n",
    "import pandas as pd\n",
    "import numpy as np\n",
    "from datetime import datetime\n",
    "import matplotlib.pyplot as plt\n",
    "\n",
    "from sklearn.model_selection import train_test_split\n",
    "from sklearn.preprocessing import OneHotEncoder\n",
    "from sklearn.metrics import mean_squared_error\n",
    "from sklearn.preprocessing import MinMaxScaler\n",
    "\n",
    "from keras.models import Sequential\n",
    "from keras.layers import Dense\n",
    "from keras.optimizers import Adam\n",
    "from keras.losses import MeanSquaredError"
   ]
  },
  {
   "cell_type": "code",
   "execution_count": null,
   "metadata": {},
   "outputs": [],
   "source": [
    "# Some global variables\n",
    "\n",
    "data_folder = \"../Data/\"\n",
    "res_folder = \"../Res/\"\n",
    "features = ['bg', 'insulin', 'carbs', 'hr', 'steps', 'cals', 'activity']\n",
    "current_date = datetime.now().strftime('%Y%m%d')"
   ]
  },
  {
   "cell_type": "code",
   "execution_count": null,
   "metadata": {},
   "outputs": [],
   "source": [
    "# Read activity types\n",
    "\n",
    "with open(data_folder + 'activities.txt', 'r') as file:\n",
    "    activities = file.read().splitlines()\n",
    "\n",
    "# Add missing activities\n",
    "activities.extend(['Not Available', 'CoreTraining', 'Cycling'])\n",
    "\n",
    "print(\"Activity Types: \", activities)"
   ]
  },
  {
   "cell_type": "code",
   "execution_count": null,
   "metadata": {},
   "outputs": [],
   "source": [
    "# Read training data and test data\n",
    "\n",
    "train_df = pd.read_csv(data_folder + '20241127_train_cleaned.csv')\n",
    "test_df = pd.read_csv(data_folder + '20241127_test_cleaned.csv')\n",
    "\n",
    "print(\"Training Data Shape: \", train_df.shape)\n",
    "print(\"Test Data Shape: \", test_df.shape)\n",
    "train_df.head()"
   ]
  },
  {
   "cell_type": "code",
   "execution_count": null,
   "metadata": {},
   "outputs": [],
   "source": [
    "# One hot encode the activity columns\n",
    "\n",
    "encode_activity = True\n",
    "\n",
    "if encode_activity:\n",
    "    \n",
    "    # Initialize the encoder\n",
    "    activity_cols = [col for col in train_df.columns if col.startswith('activity')]\n",
    "    encoder = OneHotEncoder(categories=[activities]*len(activity_cols), sparse_output=False, handle_unknown='error')\n",
    "\n",
    "    # Fit and transform the training data\n",
    "    encoded_train = encoder.fit_transform(train_df[activity_cols])\n",
    "    encoded_train_df = pd.DataFrame(encoded_train, columns=encoder.get_feature_names_out(activity_cols))\n",
    "\n",
    "    # Transform the test data\n",
    "    encoded_test = encoder.transform(test_df[activity_cols])\n",
    "    encoded_test_df = pd.DataFrame(encoded_test, columns=encoder.get_feature_names_out(activity_cols))\n",
    "\n",
    "    # Drop the original 'activity' columns and concatenate the encoded columns\n",
    "    train_df = train_df.drop(activity_cols, axis=1).reset_index(drop=True)\n",
    "    test_df = test_df.drop(activity_cols, axis=1).reset_index(drop=True)\n",
    "    train_df = pd.concat([train_df, encoded_train_df], axis=1)\n",
    "    test_df = pd.concat([test_df, encoded_test_df], axis=1)\n",
    "\n",
    "print(\"Training Data Shape: \", train_df.shape)\n",
    "print(\"Test Data Shape: \", test_df.shape)\n",
    "train_df.head()"
   ]
  },
  {
   "cell_type": "code",
   "execution_count": null,
   "metadata": {},
   "outputs": [],
   "source": [
    "def save_result(test_df, pred, file_name):\n",
    "    \n",
    "    # Prepare data for submission\n",
    "    test_df['bg+1:00'] = pred\n",
    "    res_df = test_df[['id', 'bg+1:00']]\n",
    "    \n",
    "    res_df.to_csv(file_name, index=False)\n",
    "    print(f\"Result saved to {file_name}\")\n",
    "    \n",
    "    return None\n",
    "\n",
    "# save_result(test_df, test_df['bg-0:00'], res_folder + current_date + '_simple_baseline.csv')"
   ]
  },
  {
   "cell_type": "code",
   "execution_count": null,
   "metadata": {},
   "outputs": [],
   "source": [
    "# Prepare the validation data similar to test data for evaluation\n",
    "# With few patient data not seen completely while the rest split into training and validation data\n",
    "\n",
    "# Following patient numbers will be skipped for validation data\n",
    "# These patients are found to have few data points compared to others\n",
    "skip_p_nums = ['p01', 'P06', 'P05']\n",
    "\n",
    "# Select the feature columns for training\n",
    "feature_cols = []\n",
    "for feature in features:\n",
    "    # Skip categorical features if not encoded\n",
    "    if not encode_activity and feature == 'activity':\n",
    "        continue\n",
    "    feature_cols.extend([col for col in train_df.columns if col.startswith(feature)])\n",
    "feature_cols.remove('bg+1:00')\n",
    "\n",
    "# Split the data into training and validation sets\n",
    "X = train_df[~train_df['p_num'].isin(skip_p_nums)][feature_cols]\n",
    "y = train_df[~train_df['p_num'].isin(skip_p_nums)]['bg+1:00']\n",
    "X_train, X_val, y_train, y_val = train_test_split(X, y, test_size=0.15, random_state=0)\n",
    "\n",
    "# Append validation data with the skipped patient numbers data\n",
    "X_val = pd.concat([X_val, train_df[train_df['p_num'].isin(skip_p_nums)][feature_cols]])\n",
    "y_val = pd.concat([y_val, train_df[train_df['p_num'].isin(skip_p_nums)]['bg+1:00']])\n",
    "\n",
    "print(\"Training Shape: \", X_train.shape)\n",
    "print(\"Validation Shape: \", X_val.shape)"
   ]
  },
  {
   "cell_type": "code",
   "execution_count": null,
   "metadata": {},
   "outputs": [],
   "source": [
    "# Normalize the data before training\n",
    "\n",
    "# Initialize the scaler\n",
    "scaler = MinMaxScaler()\n",
    "\n",
    "# Fit and transform the training data\n",
    "X_train_scaled = scaler.fit_transform(X_train)\n",
    "X_val_scaled = scaler.transform(X_val)\n",
    "\n",
    "# Convert the scaled data back to DataFrame\n",
    "X_train_scaled = pd.DataFrame(X_train_scaled, columns=X_train.columns)\n",
    "X_val_scaled = pd.DataFrame(X_val_scaled, columns=X_val.columns)\n",
    "\n",
    "print(\"Scaled Training Data Shape: \", X_train_scaled.shape)\n",
    "print(\"Scaled Validation Data Shape: \", X_val_scaled.shape)"
   ]
  },
  {
   "cell_type": "code",
   "execution_count": null,
   "metadata": {},
   "outputs": [],
   "source": [
    "# TODO: Sequential data modeling (using RNN or LSTM) need to be explored\n",
    "\n",
    "def get_MLP_model(input_shape, verbose=False):\n",
    "    \n",
    "    # Define the model\n",
    "    model = Sequential()\n",
    "    model.add(Dense(128, input_dim=input_shape, activation='relu'))\n",
    "    model.add(Dense(64, activation='relu'))\n",
    "    model.add(Dense(32, activation='relu'))\n",
    "    model.add(Dense(1, activation='linear'))\n",
    "    \n",
    "    # Compile the model\n",
    "    model.compile(optimizer=Adam(learning_rate=0.001), loss=MeanSquaredError())\n",
    "    \n",
    "    if verbose:\n",
    "        model.summary()\n",
    "    \n",
    "    return model\n",
    "\n",
    "# Get the model instance\n",
    "model = get_MLP_model(X_train.shape[1], True)\n",
    "\n",
    "# Train the model\n",
    "history = model.fit(X_train_scaled, y_train, validation_split=0.2, epochs=25, batch_size=32, verbose=1)\n",
    "\n",
    "# Evaluate the model\n",
    "train_pred = model.predict(X_train_scaled)\n",
    "val_pred = model.predict(X_val_scaled)\n",
    "train_rmse = np.sqrt(mean_squared_error(y_train, train_pred))\n",
    "val_rmse = np.sqrt(mean_squared_error(y_val, val_pred))\n",
    "print(f\"Train RMSE: {train_rmse}, Validation RMSE: {val_rmse}\")"
   ]
  },
  {
   "cell_type": "code",
   "execution_count": null,
   "metadata": {},
   "outputs": [],
   "source": [
    "# Check for model bias and variance\n",
    "\n",
    "plt.figure(figsize=(10, 6))\n",
    "plt.plot(history.history['loss'], label='Training Loss')\n",
    "plt.plot(history.history['val_loss'], label='Validation Loss')\n",
    "plt.title('Model Loss')\n",
    "plt.xlabel('Epoch')\n",
    "plt.ylabel('Loss')\n",
    "plt.legend(loc='upper right')\n",
    "plt.grid(True)\n",
    "plt.show()"
   ]
  },
  {
   "cell_type": "code",
   "execution_count": null,
   "metadata": {},
   "outputs": [],
   "source": [
    "# Test data prediction\n",
    "\n",
    "scaler = MinMaxScaler()\n",
    "X_train_scaled = scaler.fit_transform(train_df[feature_cols])\n",
    "X_test_scaled = scaler.transform(test_df[feature_cols])\n",
    "\n",
    "model = get_MLP_model(X_train.shape[1], True)\n",
    "model.fit(X_train_scaled, train_df['bg+1:00'], epochs=10, batch_size=32, verbose=1)\n",
    "\n",
    "test_pred = model.predict(X_test_scaled)\n",
    "save_result(test_df, test_pred, res_folder + current_date + '_nn_keep-all-with-norm.csv')\n",
    "\n",
    "train_rmse = np.sqrt(mean_squared_error(train_df['bg+1:00'], model.predict(X_train_scaled)))\n",
    "print(f\"Train RMSE: {round(train_rmse, 4)}\")"
   ]
  },
  {
   "cell_type": "code",
   "execution_count": null,
   "metadata": {},
   "outputs": [],
   "source": []
  }
 ],
 "metadata": {
  "kernelspec": {
   "display_name": "bris1d_bgpred",
   "language": "python",
   "name": "python3"
  },
  "language_info": {
   "codemirror_mode": {
    "name": "ipython",
    "version": 3
   },
   "file_extension": ".py",
   "mimetype": "text/x-python",
   "name": "python",
   "nbconvert_exporter": "python",
   "pygments_lexer": "ipython3",
   "version": "3.12.7"
  }
 },
 "nbformat": 4,
 "nbformat_minor": 2
}

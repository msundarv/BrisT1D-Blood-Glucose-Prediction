{
 "cells": [
  {
   "cell_type": "code",
   "execution_count": null,
   "metadata": {},
   "outputs": [],
   "source": [
    "import warnings\n",
    "warnings.filterwarnings('ignore')\n",
    "\n",
    "import pandas as pd\n",
    "import numpy as np\n",
    "from datetime import datetime\n",
    "from sklearn.metrics import mean_squared_error\n",
    "from sklearn.model_selection import train_test_split\n",
    "from sklearn.ensemble import RandomForestRegressor\n",
    "from sklearn.model_selection import GridSearchCV\n",
    "from sklearn.preprocessing import OneHotEncoder"
   ]
  },
  {
   "cell_type": "code",
   "execution_count": null,
   "metadata": {},
   "outputs": [],
   "source": [
    "# Some global variables\n",
    "\n",
    "data_folder = \"../Data/\"\n",
    "res_folder = \"../Res/\"\n",
    "features = ['bg', 'insulin', 'carbs', 'hr', 'steps', 'cals', 'activity']\n",
    "current_date = datetime.now().strftime('%Y%m%d')"
   ]
  },
  {
   "cell_type": "code",
   "execution_count": null,
   "metadata": {},
   "outputs": [],
   "source": [
    "# Read activity types\n",
    "\n",
    "with open(data_folder + 'activities.txt', 'r') as file:\n",
    "    activities = file.read().splitlines()\n",
    "\n",
    "# Add missing activities\n",
    "activities.extend(['Not Available', 'CoreTraining', 'Cycling'])\n",
    "\n",
    "print(\"Activity Types: \", activities)"
   ]
  },
  {
   "cell_type": "code",
   "execution_count": null,
   "metadata": {},
   "outputs": [],
   "source": [
    "# Read training data and test data\n",
    "\n",
    "train_df = pd.read_csv(data_folder + '20241127_train_cleaned.csv')\n",
    "test_df = pd.read_csv(data_folder + '20241127_test_cleaned.csv')\n",
    "\n",
    "print(\"Training Data Shape: \", train_df.shape)\n",
    "print(\"Test Data Shape: \", test_df.shape)\n",
    "train_df.head()"
   ]
  },
  {
   "cell_type": "code",
   "execution_count": null,
   "metadata": {},
   "outputs": [],
   "source": [
    "# One hot encode the activity columns\n",
    "\n",
    "encode_activity = True\n",
    "\n",
    "if encode_activity:\n",
    "    \n",
    "    # Initialize the encoder\n",
    "    activity_cols = [col for col in train_df.columns if col.startswith('activity')]\n",
    "    encoder = OneHotEncoder(categories=[activities]*len(activity_cols), sparse_output=False, handle_unknown='error')\n",
    "\n",
    "    # Fit and transform the training data\n",
    "    encoded_train = encoder.fit_transform(train_df[activity_cols])\n",
    "    encoded_train_df = pd.DataFrame(encoded_train, columns=encoder.get_feature_names_out(activity_cols))\n",
    "\n",
    "    # Transform the test data\n",
    "    encoded_test = encoder.transform(test_df[activity_cols])\n",
    "    encoded_test_df = pd.DataFrame(encoded_test, columns=encoder.get_feature_names_out(activity_cols))\n",
    "\n",
    "    # Drop the original 'activity' columns and concatenate the encoded columns\n",
    "    train_df = train_df.drop(activity_cols, axis=1).reset_index(drop=True)\n",
    "    test_df = test_df.drop(activity_cols, axis=1).reset_index(drop=True)\n",
    "    train_df = pd.concat([train_df, encoded_train_df], axis=1)\n",
    "    test_df = pd.concat([test_df, encoded_test_df], axis=1)\n",
    "\n",
    "print(\"Training Data Shape: \", train_df.shape)\n",
    "print(\"Test Data Shape: \", test_df.shape)\n",
    "train_df.head()"
   ]
  },
  {
   "cell_type": "code",
   "execution_count": null,
   "metadata": {},
   "outputs": [],
   "source": [
    "def save_result(test_df, pred, file_name):\n",
    "    \n",
    "    # Prepare data for submission\n",
    "    test_df['bg+1:00'] = pred\n",
    "    res_df = test_df[['id', 'bg+1:00']]\n",
    "    \n",
    "    res_df.to_csv(file_name, index=False)\n",
    "    print(f\"Result saved to {file_name}\")\n",
    "    \n",
    "    return None\n",
    "\n",
    "# save_result(test_df, test_df['bg-0:00'], res_folder + current_date + '_simple_baseline.csv')"
   ]
  },
  {
   "cell_type": "code",
   "execution_count": null,
   "metadata": {},
   "outputs": [],
   "source": [
    "# Prepare the validation data similar to test data for evaluation\n",
    "# With few patient data not seen completely while the rest split into training and validation data\n",
    "\n",
    "# Following patient numbers will be skipped for validation data\n",
    "# These patients are found to have few data points compared to others\n",
    "skip_p_nums = ['p01', 'P06', 'P05']\n",
    "\n",
    "# Select the feature columns for training\n",
    "feature_cols = []\n",
    "for feature in features:\n",
    "    # Skip categorical features if not encoded\n",
    "    if not encode_activity and feature == 'activity':\n",
    "        continue\n",
    "    feature_cols.extend([col for col in train_df.columns if col.startswith(feature)])\n",
    "feature_cols.remove('bg+1:00')\n",
    "\n",
    "# Split the data into training and validation sets\n",
    "X = train_df[~train_df['p_num'].isin(skip_p_nums)][feature_cols]\n",
    "y = train_df[~train_df['p_num'].isin(skip_p_nums)]['bg+1:00']\n",
    "X_train, X_val, y_train, y_val = train_test_split(X, y, test_size=0.15, random_state=0)\n",
    "\n",
    "# Append validation data with the skipped patient numbers data\n",
    "X_val = pd.concat([X_val, train_df[train_df['p_num'].isin(skip_p_nums)][feature_cols]])\n",
    "y_val = pd.concat([y_val, train_df[train_df['p_num'].isin(skip_p_nums)]['bg+1:00']])\n",
    "\n",
    "print(\"Training Shape: \", X_train.shape)\n",
    "print(\"Validation Shape: \", X_val.shape)"
   ]
  },
  {
   "cell_type": "code",
   "execution_count": null,
   "metadata": {},
   "outputs": [],
   "source": [
    "# Find the best performing model using param search\n",
    "\n",
    "# Define the parameter grid\n",
    "param_grid = {\n",
    "    'n_estimators': [5, 10, 25],\n",
    "    'max_depth': [None, 10, 20, 30],\n",
    "    'min_samples_split': [2, 5, 10],\n",
    "    'min_samples_leaf': [1, 2, 4]\n",
    "}\n",
    "\n",
    "run_param_search = False\n",
    "if run_param_search:\n",
    "    \n",
    "    # Initialize the RandomForestRegressor\n",
    "    rf = RandomForestRegressor(max_features='log2', random_state=0)\n",
    "\n",
    "    # Initialize the GridSearchCV\n",
    "    grid_search = GridSearchCV(estimator=rf, param_grid=param_grid, cv=3, n_jobs=-1, verbose=3, scoring='neg_root_mean_squared_error')\n",
    "\n",
    "    # Fit the grid search to the data\n",
    "    grid_search.fit(X_train, y_train)\n",
    "\n",
    "    # Get the best parameters and the best model\n",
    "    best_params = grid_search.best_params_\n",
    "    best_model = grid_search.best_estimator_\n",
    "\n",
    "    print(\"Best Parameters: \", best_params)\n",
    "    print(\"Best Model: \", best_model)"
   ]
  },
  {
   "cell_type": "code",
   "execution_count": null,
   "metadata": {},
   "outputs": [],
   "source": [
    "# Model training\n",
    "model = RandomForestRegressor(n_estimators=25, max_features='log2', random_state=0)\n",
    "model.fit(X_train, y_train)\n",
    "\n",
    "# Model evaluation\n",
    "y_train_pred = model.predict(X_train)\n",
    "y_val_pred = model.predict(X_val)\n",
    "train_rmse = np.sqrt(mean_squared_error(y_train, y_train_pred))\n",
    "val_rmse = np.sqrt(mean_squared_error(y_val, y_val_pred))\n",
    "print(f\"Train RMSE: {round(train_rmse, 4)}, Validation RMSE: {round(val_rmse, 4)}\")"
   ]
  },
  {
   "cell_type": "code",
   "execution_count": null,
   "metadata": {},
   "outputs": [],
   "source": [
    "# Test data prediction\n",
    "\n",
    "model = RandomForestRegressor(n_estimators=25, max_features='log2', random_state=0)\n",
    "# model = RandomForestRegressor(n_estimators=25, random_state=0)\n",
    "model.fit(train_df[feature_cols], train_df['bg+1:00'])  \n",
    "\n",
    "test_pred = model.predict(test_df[feature_cols])\n",
    "# save_result(test_df, test_pred, res_folder + current_date + '_rf_keep-all.csv')\n",
    "\n",
    "train_rmse = np.sqrt(mean_squared_error(train_df['bg+1:00'], model.predict(train_df[feature_cols])))\n",
    "print(f\"Train RMSE: {round(train_rmse, 4)}\")"
   ]
  },
  {
   "cell_type": "code",
   "execution_count": null,
   "metadata": {},
   "outputs": [],
   "source": []
  }
 ],
 "metadata": {
  "kernelspec": {
   "display_name": "brist1d",
   "language": "python",
   "name": "python3"
  },
  "language_info": {
   "codemirror_mode": {
    "name": "ipython",
    "version": 3
   },
   "file_extension": ".py",
   "mimetype": "text/x-python",
   "name": "python",
   "nbconvert_exporter": "python",
   "pygments_lexer": "ipython3",
   "version": "3.12.7"
  }
 },
 "nbformat": 4,
 "nbformat_minor": 2
}

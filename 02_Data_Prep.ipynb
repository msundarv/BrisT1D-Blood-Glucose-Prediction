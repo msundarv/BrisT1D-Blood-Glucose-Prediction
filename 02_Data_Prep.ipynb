{
 "cells": [
  {
   "cell_type": "code",
   "execution_count": null,
   "metadata": {},
   "outputs": [],
   "source": [
    "import warnings\n",
    "warnings.filterwarnings('ignore')\n",
    "\n",
    "import pandas as pd\n",
    "from datetime import datetime"
   ]
  },
  {
   "cell_type": "code",
   "execution_count": null,
   "metadata": {},
   "outputs": [],
   "source": [
    "# Some global variables\n",
    "\n",
    "data_folder = \"../Data/\"\n",
    "features = ['bg', 'insulin', 'carbs', 'hr', 'steps', 'cals', 'activity']"
   ]
  },
  {
   "cell_type": "code",
   "execution_count": null,
   "metadata": {},
   "outputs": [],
   "source": [
    "# Read training data and test data for preparation\n",
    "\n",
    "train_df = pd.read_csv(data_folder + 'train.csv')\n",
    "test_df = pd.read_csv(data_folder + 'test.csv')"
   ]
  },
  {
   "cell_type": "code",
   "execution_count": null,
   "metadata": {},
   "outputs": [],
   "source": [
    "# Create a copy of the training and test data for cleaning \n",
    "\n",
    "res_train_df = train_df.copy()\n",
    "res_test_df = test_df.copy()"
   ]
  },
  {
   "cell_type": "code",
   "execution_count": null,
   "metadata": {},
   "outputs": [],
   "source": [
    "def bf_fill_missing_values(df, feature_prefix, original_df, print_stats=False):\n",
    "    '''\n",
    "    Fill missing values in a sample with the next seen value for the given feature.\n",
    "    If next seen value is not availble, then fill with last seen value.\n",
    "    \n",
    "    df: DataFrame containing the data\n",
    "    feature_prefix: Prefix of the feature columns to fill missing values for\n",
    "    original_df: Original DataFrame before filling missing values\n",
    "    print_stats: Boolean to print statistics before and after filling missing values\n",
    "    '''\n",
    "    \n",
    "    # Select relevant columns\n",
    "    columns = [col for col in df.columns if col.startswith(feature_prefix)]\n",
    "    \n",
    "    # Backfill missing values in a sample\n",
    "    df[columns] = df[columns].fillna(method='bfill', axis=1)\n",
    "    \n",
    "    # Ffill missing values in a sample\n",
    "    # Useful for test data without last value in the sample\n",
    "    df[columns] = df[columns].fillna(method='ffill', axis=1)\n",
    "    \n",
    "    if print_stats:\n",
    "        print(\"********************************\")\n",
    "        print(\"Before filling \"+feature_prefix+\" empty values with the next seen value\")\n",
    "        print(original_df[columns].shape)\n",
    "        print(original_df[columns].head())\n",
    "        print(\"Missing values before backfilling \"+feature_prefix+\":\", original_df[columns].isnull().sum().sum())\n",
    "        print(\"After filling \"+feature_prefix+\" empty values with the next seen value\")\n",
    "        print(df[columns].shape)\n",
    "        print(df[columns].head())\n",
    "        print(\"Missing values after backfilling \"+feature_prefix+\":\", df[columns].isnull().sum().sum())\n",
    "        print(\"********************************\")\n",
    "    return df\n",
    "\n",
    "def fill_missing_values(df, feature_prefix, value, original_df, print_stats=False):\n",
    "    '''\n",
    "    Fill missing values in a sample (for the given feature) based on the provided value.\n",
    "    \n",
    "    df: DataFrame containing the data\n",
    "    feature_prefix: Prefix of the feature columns to fill missing values for\n",
    "    value: Value to fill missing values with\n",
    "    original_df: Original DataFrame before filling missing values\n",
    "    print_stats: Boolean to print statistics before and after filling missing values\n",
    "    '''\n",
    "    \n",
    "    # Select relevant columns\n",
    "    columns = [col for col in df.columns if col.startswith(feature_prefix)]\n",
    "    \n",
    "    # Fill missing values in a sample\n",
    "    df[columns] = df[columns].fillna(value)\n",
    "    \n",
    "    if print_stats:\n",
    "        print(\"********************************\")\n",
    "        print(\"Before filling \"+feature_prefix+\" empty values with\", value)\n",
    "        print(original_df[columns].shape)\n",
    "        print(original_df[columns].head())\n",
    "        print(\"Missing values before filling \"+feature_prefix+\":\", original_df[columns].isnull().sum().sum())\n",
    "        print(\"After filling \"+feature_prefix+\" empty values with\", value)\n",
    "        print(df[columns].shape)\n",
    "        print(df[columns].head())\n",
    "        print(\"Missing values after filling \"+feature_prefix+\":\", df[columns].isnull().sum().sum())\n",
    "        print(\"********************************\")\n",
    "    return df  \n",
    "\n",
    "def simplify_activity_column(df):\n",
    "    '''\n",
    "    Summarize the activity columns for each sample with the most freq and recent activity.\n",
    "    \n",
    "    df: DataFrame containing the data\n",
    "    '''\n",
    "    \n",
    "    # TODO: We can upgrade this function to get more information about the activity.\n",
    "    # For example, we can get the top x most frequent activities or recent activities.\n",
    "    \n",
    "    # Select relevant columns\n",
    "    columns = [col for col in df.columns if col.startswith('activity')]\n",
    "    \n",
    "    # Find the most frequent activity for each sample\n",
    "    df['activity_1x'] = df[columns].mode(axis=1)[0]\n",
    "    \n",
    "    # Get the recent activity for each sample\n",
    "    df['activity_2x'] = df[columns].ffill(axis=1).iloc[:, -1]\n",
    "    \n",
    "    # Drop the original activity columns\n",
    "    df.drop(columns=columns, inplace=True)\n",
    "    \n",
    "    return df"
   ]
  },
  {
   "cell_type": "code",
   "execution_count": null,
   "metadata": {},
   "outputs": [],
   "source": [
    "# For selected features, fill the missing values with the next seen value in the same sample.\n",
    "# If next seen value is not available, fill with last seen value.\n",
    "\n",
    "for feature in features:\n",
    "    \n",
    "    if feature not in ['bg']:\n",
    "        continue\n",
    "    \n",
    "    res_train_df = bf_fill_missing_values(res_train_df, feature, train_df, print_stats=False)\n",
    "    res_test_df = bf_fill_missing_values(res_test_df, feature, test_df, print_stats=False)"
   ]
  },
  {
   "cell_type": "code",
   "execution_count": null,
   "metadata": {},
   "outputs": [],
   "source": [
    "# For selected features, fill missing values with given value\n",
    "\n",
    "default_value = {'insulin': 0, 'carbs': 0, 'hr': -1, 'steps': 0, 'cals': 0}\n",
    "\n",
    "for feature in features:\n",
    "    \n",
    "    if feature not in default_value.keys():\n",
    "        continue\n",
    "    \n",
    "    res_train_df = fill_missing_values(res_train_df, feature, default_value[feature], train_df, print_stats=False)\n",
    "    res_test_df = fill_missing_values(res_test_df, feature, default_value[feature], test_df, print_stats=False)"
   ]
  },
  {
   "cell_type": "code",
   "execution_count": null,
   "metadata": {},
   "outputs": [],
   "source": [
    "# For activity feature, find the most freq and recent activity in each sample\n",
    "\n",
    "res_train_df = simplify_activity_column(res_train_df)\n",
    "res_train_df = fill_missing_values(res_train_df, 'activity', 'Not Available', train_df, print_stats=False)\n",
    "\n",
    "res_test_df = simplify_activity_column(res_test_df)\n",
    "res_test_df = fill_missing_values(res_test_df, 'activity', 'Not Available', test_df, print_stats=False)"
   ]
  },
  {
   "cell_type": "code",
   "execution_count": null,
   "metadata": {},
   "outputs": [],
   "source": [
    "# Save the cleaned data\n",
    "\n",
    "current_date = datetime.now().strftime('%Y%m%d')\n",
    "\n",
    "res_test_df.to_csv(data_folder + current_date + '_test_cleaned.csv', index=False)\n",
    "res_train_df.to_csv(data_folder + current_date + '_train_cleaned.csv', index=False)"
   ]
  },
  {
   "cell_type": "code",
   "execution_count": null,
   "metadata": {},
   "outputs": [],
   "source": []
  }
 ],
 "metadata": {
  "kernelspec": {
   "display_name": "brist1d",
   "language": "python",
   "name": "python3"
  },
  "language_info": {
   "codemirror_mode": {
    "name": "ipython",
    "version": 3
   },
   "file_extension": ".py",
   "mimetype": "text/x-python",
   "name": "python",
   "nbconvert_exporter": "python",
   "pygments_lexer": "ipython3",
   "version": "3.12.7"
  }
 },
 "nbformat": 4,
 "nbformat_minor": 2
}
